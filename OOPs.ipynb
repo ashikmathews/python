{
 "cells": [
  {
   "cell_type": "code",
   "execution_count": 28,
   "id": "7b829b91-239a-432e-8413-75c29ca46361",
   "metadata": {},
   "outputs": [
    {
     "name": "stdout",
     "output_type": "stream",
     "text": [
      "Course Code: CS101, Course Name: Introduction to Computer Science, Credit Hours: 3, Required for Major: True\n",
      "Course Code: HIST200, Course Name: World History, Credit Hours: 2, Elective Type: liberal arts\n",
      "Employee Name: John Doe\n",
      "Employee Salary: 50000\n",
      "\n",
      "--- Checking Course Catalog ---\n",
      "Course Code: CS102, Course Name: Data Structures, Credit Hours: 4, Required for Major: True\n",
      "Course Code: ART100, Course Name: Modern Art, Credit Hours: 3, Elective Type: liberal arts\n",
      "\n",
      "--- Checking Employee Module ---\n",
      "Employee Name: Alice Smith\n",
      "Employee Salary: 60000\n"
     ]
    }
   ],
   "source": [
    "\n",
    "\n",
    "class Course:\n",
    "    def __init__(self, course_code, course_name, credit_hours):\n",
    "        self.course_code = course_code\n",
    "        self.course_name = course_name\n",
    "        self.credit_hours = credit_hours\n",
    "    \n",
    "    def display_info(self):\n",
    "        return f\"Course Code: {self.course_code}, Course Name: {self.course_name}, Credit Hours: {self.credit_hours}\"\n",
    "\n",
    "class CoreCourse(Course):\n",
    "    def __init__(self, course_code, course_name, credit_hours, required_for_major):\n",
    "        super().__init__(course_code, course_name, credit_hours)\n",
    "        self.required_for_major = required_for_major\n",
    "    \n",
    "    def display_info(self):\n",
    "        return f\"Course Code: {self.course_code}, Course Name: {self.course_name}, Credit Hours: {self.credit_hours}, Required for Major: {self.required_for_major}\"\n",
    "\n",
    "class ElectiveCourse(Course):\n",
    "    def __init__(self, course_code, course_name, credit_hours, elective_type):\n",
    "        super().__init__(course_code, course_name, credit_hours)\n",
    "        self.elective_type = elective_type\n",
    "    \n",
    "    def display_info(self):\n",
    "        return f\"Course Code: {self.course_code}, Course Name: {self.course_name}, Credit Hours: {self.credit_hours}, Elective Type: {self.elective_type}\"\n",
    "\n",
    "\n",
    "if __name__ == \"__main__\":\n",
    "    core = CoreCourse(\"CS101\", \"Introduction to Computer Science\", 3, True)\n",
    "    elective = ElectiveCourse(\"HIST200\", \"World History\", 2, \"liberal arts\")\n",
    "\n",
    "    print(core.display_info())\n",
    "    print(elective.display_info())\n",
    "\n",
    "\n",
    "class Employee:\n",
    "    def __init__(self, name, salary):\n",
    "        self.name = name\n",
    "        self.salary = salary\n",
    "    \n",
    "    def get_name(self):\n",
    "        return self.name\n",
    "    \n",
    "    def get_salary(self):\n",
    "        return self.salary\n",
    "\n",
    "\n",
    "if __name__ == \"__main__\":\n",
    "    emp = Employee(\"John Doe\", 50000)\n",
    "    print(f\"Employee Name: {emp.get_name()}\")\n",
    "    print(f\"Employee Salary: {emp.get_salary()}\")\n",
    "\n",
    "\n",
    "print(\"\\n--- Checking Course Catalog ---\")\n",
    "core_course = CoreCourse(\"CS102\", \"Data Structures\", 4, True)\n",
    "elective_course = ElectiveCourse(\"ART100\", \"Modern Art\", 3, \"liberal arts\")\n",
    "print(core_course.display_info())\n",
    "print(elective_course.display_info())\n",
    "\n",
    "print(\"\\n--- Checking Employee Module ---\")\n",
    "employee = Employee(\"Alice Smith\", 60000)\n",
    "print(f\"Employee Name: {employee.get_name()}\")\n",
    "print(f\"Employee Salary: {employee.get_salary()}\")\n"
   ]
  },
  {
   "cell_type": "code",
   "execution_count": null,
   "id": "d19ad99c-952c-4622-8309-13356c7834e8",
   "metadata": {},
   "outputs": [],
   "source": []
  }
 ],
 "metadata": {
  "kernelspec": {
   "display_name": "Python 3 (ipykernel)",
   "language": "python",
   "name": "python3"
  },
  "language_info": {
   "codemirror_mode": {
    "name": "ipython",
    "version": 3
   },
   "file_extension": ".py",
   "mimetype": "text/x-python",
   "name": "python",
   "nbconvert_exporter": "python",
   "pygments_lexer": "ipython3",
   "version": "3.12.7"
  }
 },
 "nbformat": 4,
 "nbformat_minor": 5
}
