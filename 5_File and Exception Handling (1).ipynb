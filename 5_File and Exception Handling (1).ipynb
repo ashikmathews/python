{
 "cells": [
  {
   "cell_type": "code",
   "execution_count": 2,
   "id": "75dddfdd-498b-46a1-bf49-b77f7956ec9d",
   "metadata": {},
   "outputs": [],
   "source": [
    "def read_file(filename):\n",
    "    try:\n",
    "        with open(filename, 'r') as file:\n",
    "            content = file.read()\n",
    "            print(content)\n",
    "    except FileNotFoundError:\n",
    "        print(\"File not found. Please check the filename and try again.\")\n"
   ]
  },
  {
   "cell_type": "code",
   "execution_count": 8,
   "id": "bda86aa8-d4bb-43d3-a07f-4e16f223071e",
   "metadata": {},
   "outputs": [],
   "source": [
    "def copy_file(source, destination):\n",
    "    try:\n",
    "        with open(source, 'r') as src_file, open(destination, 'w') as dest_file:\n",
    "            dest_file.write(src_file.read())\n",
    "        print(\"File copied successfully.\")\n",
    "    except FileNotFoundError:\n",
    "        print(\"Source file not found.\")\n"
   ]
  },
  {
   "cell_type": "code",
   "execution_count": 10,
   "id": "b6533080-ca14-4052-aa7f-12d63111578c",
   "metadata": {},
   "outputs": [],
   "source": [
    "def count_words(filename):\n",
    "    try:\n",
    "        with open(filename, 'r') as file:\n",
    "            content = file.read()\n",
    "            words = content.split()\n",
    "            print(\"Total number of words:\", len(words))\n",
    "    except FileNotFoundError:\n",
    "        print(\"File not found.\")\n"
   ]
  },
  {
   "cell_type": "code",
   "execution_count": 12,
   "id": "eb270791-fa4d-456c-814f-6058543440ef",
   "metadata": {},
   "outputs": [],
   "source": [
    "def string_to_integer():\n",
    "    try:\n",
    "        user_input = input(\"Enter a number: \")\n",
    "        number = int(user_input)\n",
    "        print(\"Converted integer:\", number)\n",
    "    except ValueError:\n",
    "        print(\"Invalid input! Please enter a valid integer.\")\n"
   ]
  },
  {
   "cell_type": "code",
   "execution_count": 14,
   "id": "7669c78a-7164-41e5-9809-62e58b6ec715",
   "metadata": {},
   "outputs": [],
   "source": [
    "def check_positive_numbers():\n",
    "    try:\n",
    "        numbers = list(map(int, input(\"Enter a list of integers separated by spaces: \").split()))\n",
    "        if any(n < 0 for n in numbers):\n",
    "            raise ValueError(\"Negative numbers are not allowed.\")\n",
    "        print(\"All numbers are positive.\")\n",
    "    except ValueError as e:\n",
    "        print(\"Error:\", e)\n"
   ]
  },
  {
   "cell_type": "code",
   "execution_count": 16,
   "id": "898a885a-4e7e-4acd-a1e0-1bc062090a76",
   "metadata": {},
   "outputs": [],
   "source": [
    "def compute_average():\n",
    "    try:\n",
    "        numbers = list(map(int, input(\"Enter a list of integers separated by spaces: \").split()))\n",
    "        average = sum(numbers) / len(numbers)\n",
    "        print(\"Average:\", average)\n",
    "    except ZeroDivisionError:\n",
    "        print(\"Cannot compute average of an empty list.\")\n",
    "    except ValueError:\n",
    "        print(\"Invalid input! Please enter only integers.\")\n",
    "    finally:\n",
    "        print(\"Program execution completed.\")"
   ]
  },
  {
   "cell_type": "code",
   "execution_count": 18,
   "id": "f3f16138-d1de-48ae-9d0b-c520f7602815",
   "metadata": {},
   "outputs": [],
   "source": [
    "def write_to_file():\n",
    "    try:\n",
    "        filename = input(\"Enter the filename: \")\n",
    "        content = input(\"Enter the content to write: \")\n",
    "        with open(filename, 'w') as file:\n",
    "            file.write(content)\n",
    "        print(\"File written successfully.\")\n",
    "        print(\"Welcome! No errors encountered.\")\n",
    "    except Exception as e:\n",
    "        print(\"An error occurred:\", e)"
   ]
  },
  {
   "cell_type": "code",
   "execution_count": null,
   "id": "e2b2e9f7-c4c0-4813-ba7f-5c00e8e349fb",
   "metadata": {},
   "outputs": [],
   "source": []
  }
 ],
 "metadata": {
  "kernelspec": {
   "display_name": "Python 3 (ipykernel)",
   "language": "python",
   "name": "python3"
  },
  "language_info": {
   "codemirror_mode": {
    "name": "ipython",
    "version": 3
   },
   "file_extension": ".py",
   "mimetype": "text/x-python",
   "name": "python",
   "nbconvert_exporter": "python",
   "pygments_lexer": "ipython3",
   "version": "3.12.7"
  }
 },
 "nbformat": 4,
 "nbformat_minor": 5
}
