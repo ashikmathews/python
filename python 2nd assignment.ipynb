{
 "cells": [
  {
   "cell_type": "code",
   "execution_count": 2,
   "id": "32953d76-13dd-4f91-8d57-c38e59924785",
   "metadata": {},
   "outputs": [
    {
     "name": "stdout",
     "output_type": "stream",
     "text": [
      "List of 5 random numbers: [7, 13, 22, 8, 35]\n"
     ]
    }
   ],
   "source": [
    "\n",
    "random_numbers = [7, 13, 22, 8, 35]\n",
    "print(\"List of 5 random numbers:\", random_numbers)\n"
   ]
  },
  {
   "cell_type": "code",
   "execution_count": 4,
   "id": "50401762-7930-4ab4-922e-0493b97d6d69",
   "metadata": {},
   "outputs": [
    {
     "name": "stdout",
     "output_type": "stream",
     "text": [
      "Updated list: [7, 13, 22, 8, 35, 12, 25, 44]\n"
     ]
    }
   ],
   "source": [
    "\n",
    "random_numbers.extend([12, 25, 44]) \n",
    "print(\"Updated list:\", random_numbers)\n"
   ]
  },
  {
   "cell_type": "code",
   "execution_count": 6,
   "id": "c5420512-2b76-4ee8-8eff-3760af16bc30",
   "metadata": {},
   "outputs": [
    {
     "name": "stdout",
     "output_type": "stream",
     "text": [
      "Elements in the list:\n",
      "7\n",
      "13\n",
      "22\n",
      "8\n",
      "35\n",
      "12\n",
      "25\n",
      "44\n"
     ]
    }
   ],
   "source": [
    "\n",
    "print(\"Elements in the list:\")\n",
    "for num in random_numbers:\n",
    "    print(num)\n"
   ]
  },
  {
   "cell_type": "code",
   "execution_count": 8,
   "id": "d8483c47-5cf2-46b5-a878-54032fe6e9bb",
   "metadata": {},
   "outputs": [
    {
     "name": "stdout",
     "output_type": "stream",
     "text": [
      "Dictionary: {'name': 'John', 'age': 25, 'address': 'New York'}\n"
     ]
    }
   ],
   "source": [
    "\n",
    "person_info = {'name': 'John', 'age': 25, 'address': 'New York'}\n",
    "print(\"Dictionary:\", person_info)\n"
   ]
  },
  {
   "cell_type": "code",
   "execution_count": 10,
   "id": "2b478b25-c98b-4a82-a08d-178d77ed2f95",
   "metadata": {},
   "outputs": [
    {
     "name": "stdout",
     "output_type": "stream",
     "text": [
      "Updated dictionary: {'name': 'John', 'age': 25, 'address': 'New York', 'phone': '9895557987'}\n"
     ]
    }
   ],
   "source": [
    "\n",
    "person_info['phone'] = '9895557987'\n",
    "print(\"Updated dictionary:\", person_info)\n"
   ]
  },
  {
   "cell_type": "code",
   "execution_count": 12,
   "id": "2c45023a-2ece-41db-bc14-716e85d0425e",
   "metadata": {},
   "outputs": [
    {
     "name": "stdout",
     "output_type": "stream",
     "text": [
      "Set: {1, 2, 3, 4, 5}\n"
     ]
    }
   ],
   "source": [
    "\n",
    "my_set = {1, 2, 3, 4, 5}\n",
    "print(\"Set:\", my_set)\n"
   ]
  },
  {
   "cell_type": "code",
   "execution_count": 14,
   "id": "f6a68253-38d8-49f0-b6c0-62d5f9a76281",
   "metadata": {},
   "outputs": [
    {
     "name": "stdout",
     "output_type": "stream",
     "text": [
      "Set after adding 6: {1, 2, 3, 4, 5, 6}\n"
     ]
    }
   ],
   "source": [
    "\n",
    "my_set.add(6)\n",
    "print(\"Set after adding 6:\", my_set)\n"
   ]
  },
  {
   "cell_type": "code",
   "execution_count": 16,
   "id": "604faa85-a0fe-490d-a817-231f49e990b2",
   "metadata": {},
   "outputs": [
    {
     "name": "stdout",
     "output_type": "stream",
     "text": [
      "Set after removing 3: {1, 2, 4, 5, 6}\n"
     ]
    }
   ],
   "source": [
    "\n",
    "my_set.remove(3)\n",
    "print(\"Set after removing 3:\", my_set)\n"
   ]
  },
  {
   "cell_type": "code",
   "execution_count": 18,
   "id": "0caae85d-e17b-43e5-88c9-b95deaf744b3",
   "metadata": {},
   "outputs": [
    {
     "name": "stdout",
     "output_type": "stream",
     "text": [
      "Tuple: (1, 2, 3, 4)\n"
     ]
    }
   ],
   "source": [
    "\n",
    "my_tuple = (1, 2, 3, 4)\n",
    "print(\"Tuple:\", my_tuple)\n"
   ]
  },
  {
   "cell_type": "code",
   "execution_count": 20,
   "id": "34615931-abf8-454d-a480-f2427e4f08b9",
   "metadata": {},
   "outputs": [
    {
     "name": "stdout",
     "output_type": "stream",
     "text": [
      "Length of the tuple: 4\n"
     ]
    }
   ],
   "source": [
    "\n",
    "print(\"Length of the tuple:\", len(my_tuple))\n"
   ]
  },
  {
   "cell_type": "code",
   "execution_count": null,
   "id": "f0f58751-5d00-4528-8088-d761e1df401a",
   "metadata": {},
   "outputs": [],
   "source": []
  },
  {
   "cell_type": "code",
   "execution_count": null,
   "id": "dcec3a0f-3c45-472b-9138-c13cc4bc5241",
   "metadata": {},
   "outputs": [],
   "source": []
  }
 ],
 "metadata": {
  "kernelspec": {
   "display_name": "Python 3 (ipykernel)",
   "language": "python",
   "name": "python3"
  },
  "language_info": {
   "codemirror_mode": {
    "name": "ipython",
    "version": 3
   },
   "file_extension": ".py",
   "mimetype": "text/x-python",
   "name": "python",
   "nbconvert_exporter": "python",
   "pygments_lexer": "ipython3",
   "version": "3.12.7"
  }
 },
 "nbformat": 4,
 "nbformat_minor": 5
}
