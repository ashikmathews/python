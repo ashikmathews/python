{
 "cells": [
  {
   "cell_type": "code",
   "execution_count": 3,
   "id": "ecde8bd1-9071-4e5a-8d9c-280cfbe8f51a",
   "metadata": {},
   "outputs": [
    {
     "name": "stdin",
     "output_type": "stream",
     "text": [
      "Enter the month:  7\n"
     ]
    },
    {
     "name": "stdout",
     "output_type": "stream",
     "text": [
      "Month 7 is July\n"
     ]
    }
   ],
   "source": [
    "month_number = int(input(\"Enter the month: \"))\n",
    "months = [\n",
    "    \"January\", \"February\", \"March\", \"April\", \"May\", \"June\", \n",
    "    \"July\", \"August\", \"September\", \"October\", \"November\", \"December\"\n",
    "]\n",
    "\n",
    "if 1 <= month_number <= 12:\n",
    "    print(f\"Month {month_number} is {months[month_number - 1]}\")\n",
    "else:\n",
    "    print(\"Invalid month number. Please enter a value between 1 and 12.\")"
   ]
  },
  {
   "cell_type": "code",
   "execution_count": 5,
   "id": "ee040273-19e5-4c3a-ade6-5a586e90f1c4",
   "metadata": {},
   "outputs": [
    {
     "name": "stdin",
     "output_type": "stream",
     "text": [
      "Enter your age:  25\n"
     ]
    },
    {
     "name": "stdout",
     "output_type": "stream",
     "text": [
      "Your ticket costs £6.00\n"
     ]
    }
   ],
   "source": [
    "age = int(input(\"Enter your age: \"))\n",
    "full_price = 6\n",
    "\n",
    "if age < 16:\n",
    "    ticket_price = full_price / 2\n",
    "elif age >= 60:\n",
    "    ticket_price = full_price / 3\n",
    "else:\n",
    "    ticket_price = full_price\n",
    "\n",
    "print(f\"Your ticket costs £{ticket_price:.2f}\")\n"
   ]
  },
  {
   "cell_type": "code",
   "execution_count": 7,
   "id": "898e8bb9-8da6-4acc-b96c-1c7aa3d94e7c",
   "metadata": {},
   "outputs": [
    {
     "name": "stdin",
     "output_type": "stream",
     "text": [
      "Enter your weight in (kg):  78\n",
      "Enter your height in (m):  181\n"
     ]
    },
    {
     "name": "stdout",
     "output_type": "stream",
     "text": [
      "Your BMI is: 0.00\n",
      "You are in the \"Underweight\" range.\n"
     ]
    }
   ],
   "source": [
    "weight = float(input(\"Enter your weight in (kg): \"))\n",
    "height = float(input(\"Enter your height in (m): \"))\n",
    "bmi = weight / (height ** 2)\n",
    "\n",
    "print(f\"Your BMI is: {bmi:.2f}\")\n",
    "\n",
    "if bmi < 18.5:\n",
    "    status = \"Underweight\"\n",
    "elif 18.5 <= bmi <= 24.9:\n",
    "    status = \"Normal\"\n",
    "elif 25 <= bmi <= 29.9:\n",
    "    status = \"Overweight\"\n",
    "else:\n",
    "    status = \"Obese\"\n",
    "\n",
    "print(f\"You are in the \\\"{status}\\\" range.\")\n"
   ]
  },
  {
   "cell_type": "code",
   "execution_count": 9,
   "id": "799d598b-34f4-449e-b329-e588921b7cfe",
   "metadata": {},
   "outputs": [
    {
     "name": "stdin",
     "output_type": "stream",
     "text": [
      "Enter the first number:  7\n",
      "Enter the second number:  9\n",
      "Enter the third number:  8\n"
     ]
    },
    {
     "name": "stdout",
     "output_type": "stream",
     "text": [
      "The greatest number is: 9\n"
     ]
    }
   ],
   "source": [
    "num1 = int(input(\"Enter the first number: \"))\n",
    "num2 = int(input(\"Enter the second number: \"))\n",
    "num3 = int(input(\"Enter the third number: \"))\n",
    "\n",
    "greatest = max(num1, num2, num3)\n",
    "print(f\"The greatest number is: {greatest}\")\n"
   ]
  },
  {
   "cell_type": "code",
   "execution_count": 11,
   "id": "725a43b4-7c25-4b5e-b447-3427fb458b4e",
   "metadata": {},
   "outputs": [
    {
     "name": "stdin",
     "output_type": "stream",
     "text": [
      "Enter a number:  8\n"
     ]
    },
    {
     "name": "stdout",
     "output_type": "stream",
     "text": [
      "The factorial of 8 is 40320\n"
     ]
    }
   ],
   "source": [
    "num = int(input(\"Enter a number: \"))\n",
    "factorial = 1\n",
    "\n",
    "for i in range(1, num + 1):\n",
    "    factorial *= i\n",
    "\n",
    "print(f\"The factorial of {num} is {factorial}\")\n"
   ]
  },
  {
   "cell_type": "code",
   "execution_count": 13,
   "id": "5380db38-2e8e-4754-a04b-bbee19cb4980",
   "metadata": {},
   "outputs": [
    {
     "name": "stdin",
     "output_type": "stream",
     "text": [
      "Enter a number:  9\n"
     ]
    },
    {
     "name": "stdout",
     "output_type": "stream",
     "text": [
      "The reversed number is 9\n"
     ]
    }
   ],
   "source": [
    "num = int(input(\"Enter a number: \"))\n",
    "reversed_num = 0\n",
    "\n",
    "while num > 0:\n",
    "    digit = num % 10\n",
    "    reversed_num = reversed_num * 10 + digit\n",
    "    num //= 10\n",
    "\n",
    "print(f\"The reversed number is {reversed_num}\")\n"
   ]
  },
  {
   "cell_type": "code",
   "execution_count": 15,
   "id": "4ceb525c-9173-4642-b3bf-64ca72e34d41",
   "metadata": {},
   "outputs": [
    {
     "name": "stdin",
     "output_type": "stream",
     "text": [
      "Enter a number:  5\n",
      "Enter the limit:  67\n"
     ]
    },
    {
     "name": "stdout",
     "output_type": "stream",
     "text": [
      "Multiples of 5:\n",
      "5\n",
      "10\n",
      "15\n",
      "20\n",
      "25\n",
      "30\n",
      "35\n",
      "40\n",
      "45\n",
      "50\n",
      "55\n",
      "60\n",
      "65\n",
      "70\n",
      "75\n",
      "80\n",
      "85\n",
      "90\n",
      "95\n",
      "100\n",
      "105\n",
      "110\n",
      "115\n",
      "120\n",
      "125\n",
      "130\n",
      "135\n",
      "140\n",
      "145\n",
      "150\n",
      "155\n",
      "160\n",
      "165\n",
      "170\n",
      "175\n",
      "180\n",
      "185\n",
      "190\n",
      "195\n",
      "200\n",
      "205\n",
      "210\n",
      "215\n",
      "220\n",
      "225\n",
      "230\n",
      "235\n",
      "240\n",
      "245\n",
      "250\n",
      "255\n",
      "260\n",
      "265\n",
      "270\n",
      "275\n",
      "280\n",
      "285\n",
      "290\n",
      "295\n",
      "300\n",
      "305\n",
      "310\n",
      "315\n",
      "320\n",
      "325\n",
      "330\n",
      "335\n"
     ]
    }
   ],
   "source": [
    "number = int(input(\"Enter a number: \"))\n",
    "limit = int(input(\"Enter the limit: \"))\n",
    "\n",
    "print(f\"Multiples of {number}:\")\n",
    "for i in range(1, limit + 1):\n",
    "    print(number * i)\n"
   ]
  },
  {
   "cell_type": "code",
   "execution_count": 17,
   "id": "64cff725-69f9-4d2e-8c4f-d10ba49ef033",
   "metadata": {},
   "outputs": [
    {
     "name": "stdin",
     "output_type": "stream",
     "text": [
      ": 4\n"
     ]
    },
    {
     "name": "stdout",
     "output_type": "stream",
     "text": [
      "4\n"
     ]
    },
    {
     "name": "stdin",
     "output_type": "stream",
     "text": [
      ": hi\n"
     ]
    },
    {
     "name": "stdout",
     "output_type": "stream",
     "text": [
      "hi\n"
     ]
    },
    {
     "name": "stdin",
     "output_type": "stream",
     "text": [
      ": see\n"
     ]
    },
    {
     "name": "stdout",
     "output_type": "stream",
     "text": [
      "see\n"
     ]
    },
    {
     "name": "stdin",
     "output_type": "stream",
     "text": [
      ": you\n"
     ]
    },
    {
     "name": "stdout",
     "output_type": "stream",
     "text": [
      "you\n"
     ]
    },
    {
     "name": "stdin",
     "output_type": "stream",
     "text": [
      ": oi\n"
     ]
    },
    {
     "name": "stdout",
     "output_type": "stream",
     "text": [
      "oi\n"
     ]
    },
    {
     "name": "stdin",
     "output_type": "stream",
     "text": [
      ": done\n"
     ]
    },
    {
     "name": "stdout",
     "output_type": "stream",
     "text": [
      "done\n",
      "Done\n"
     ]
    }
   ],
   "source": [
    "while True:\n",
    "    user_input = input(\":\")\n",
    "    print(user_input)\n",
    "    if user_input.lower() == 'done':\n",
    "        print(\"Done\")\n",
    "        break\n"
   ]
  },
  {
   "cell_type": "code",
   "execution_count": 19,
   "id": "81a3952d-6981-456d-9849-40ccb40088dc",
   "metadata": {},
   "outputs": [
    {
     "name": "stdout",
     "output_type": "stream",
     "text": [
      "1\n",
      "2\n",
      "Fizz\n",
      "4\n",
      "Buzz\n",
      "Fizz\n",
      "7\n",
      "8\n",
      "Fizz\n",
      "Buzz\n"
     ]
    }
   ],
   "source": [
    "for i in range(1, 11):\n",
    "    if i % 3 == 0 and i % 5 == 0:\n",
    "        print(\"FizzBuzz\")\n",
    "    elif i % 3 == 0:\n",
    "        print(\"Fizz\")\n",
    "    elif i % 5 == 0:\n",
    "        print(\"Buzz\")\n",
    "    else:\n",
    "        print(i)\n"
   ]
  },
  {
   "cell_type": "code",
   "execution_count": 21,
   "id": "796c906f-6809-4cec-97e1-ed5b7cc1580c",
   "metadata": {},
   "outputs": [
    {
     "name": "stdout",
     "output_type": "stream",
     "text": [
      "5 4 3 2 1 \n",
      "4 3 2 1 \n",
      "3 2 1 \n",
      "2 1 \n",
      "1 \n"
     ]
    }
   ],
   "source": [
    "rows = 5\n",
    "for i in range(rows, 0, -1):\n",
    "    for j in range(i, 0, -1):\n",
    "        print(j, end=\" \")\n",
    "    print()\n"
   ]
  },
  {
   "cell_type": "code",
   "execution_count": null,
   "id": "adef6d82-745b-4110-a1e5-6248a6cc13b0",
   "metadata": {},
   "outputs": [],
   "source": []
  },
  {
   "cell_type": "code",
   "execution_count": null,
   "id": "9ff6a1d8-a38e-42d9-90aa-00835e087c11",
   "metadata": {},
   "outputs": [],
   "source": []
  },
  {
   "cell_type": "code",
   "execution_count": null,
   "id": "e014f4bd-76e5-470f-84a1-6a1bb65dc1e4",
   "metadata": {},
   "outputs": [],
   "source": []
  }
 ],
 "metadata": {
  "kernelspec": {
   "display_name": "Python 3 (ipykernel)",
   "language": "python",
   "name": "python3"
  },
  "language_info": {
   "codemirror_mode": {
    "name": "ipython",
    "version": 3
   },
   "file_extension": ".py",
   "mimetype": "text/x-python",
   "name": "python",
   "nbconvert_exporter": "python",
   "pygments_lexer": "ipython3",
   "version": "3.12.7"
  }
 },
 "nbformat": 4,
 "nbformat_minor": 5
}
