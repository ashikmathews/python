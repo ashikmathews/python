{
 "cells": [
  {
   "cell_type": "code",
   "execution_count": 2,
   "id": "065333f4-9b1c-47f7-92bb-6cecc3d5af05",
   "metadata": {},
   "outputs": [
    {
     "name": "stdout",
     "output_type": "stream",
     "text": [
      "Reshaped Array (2x5):\n",
      " [[ 1  2  3  4  5]\n",
      " [ 6  7  8  9 10]]\n"
     ]
    }
   ],
   "source": [
    "import numpy as np\n",
    "\n",
    "\n",
    "array_1_to_10 = np.arange(1, 11)\n",
    "\n",
    "\n",
    "reshaped_array = array_1_to_10.reshape(2, 5)\n",
    "print(\"Reshaped Array (2x5):\\n\", reshaped_array)\n"
   ]
  },
  {
   "cell_type": "code",
   "execution_count": 4,
   "id": "c2d99762-598b-4711-b020-a1e52be80775",
   "metadata": {},
   "outputs": [
    {
     "name": "stdout",
     "output_type": "stream",
     "text": [
      "Elements between the 5th and 15th index:\n",
      " [ 6  7  8  9 10 11 12 13 14 15]\n"
     ]
    }
   ],
   "source": [
    "\n",
    "array_1_to_20 = np.arange(1, 21)\n",
    "\n",
    "\n",
    "extracted_elements = array_1_to_20[5:15]\n",
    "print(\"Elements between the 5th and 15th index:\\n\", extracted_elements)\n"
   ]
  },
  {
   "cell_type": "code",
   "execution_count": 6,
   "id": "960fb952-2643-423c-8f71-f990e8e2b1a8",
   "metadata": {},
   "outputs": [
    {
     "name": "stdout",
     "output_type": "stream",
     "text": [
      "Updated Fruit Series:\n",
      " apples     3\n",
      "bananas    2\n",
      "oranges    1\n",
      "pears      4\n",
      "dtype: int64\n"
     ]
    }
   ],
   "source": [
    "import pandas as pd\n",
    "\n",
    "\n",
    "fruit_series = pd.Series({'apples': 3, 'bananas': 2, 'oranges': 1})\n",
    "\n",
    "\n",
    "fruit_series['pears'] = 4\n",
    "print(\"Updated Fruit Series:\\n\", fruit_series)\n"
   ]
  },
  {
   "cell_type": "code",
   "execution_count": 8,
   "id": "718139bd-52e9-4fe5-9dc5-e82c68e5a2e1",
   "metadata": {},
   "outputs": [
    {
     "name": "stdout",
     "output_type": "stream",
     "text": [
      "Dataframe:\n",
      "       name  age gender\n",
      "0    Alice   28      F\n",
      "1      Bob   34      M\n",
      "2  Charlie   22      M\n",
      "3    David   45      M\n",
      "4      Eva   29      F\n",
      "5    Frank   37      M\n",
      "6    Grace   30      F\n",
      "7   Hannah   32      F\n",
      "8      Ivy   24      F\n",
      "9     Jack   40      M\n"
     ]
    }
   ],
   "source": [
    "\n",
    "data = {\n",
    "    'name': ['Alice', 'Bob', 'Charlie', 'David', 'Eva', 'Frank', 'Grace', 'Hannah', 'Ivy', 'Jack'],\n",
    "    'age': [28, 34, 22, 45, 29, 37, 30, 32, 24, 40],\n",
    "    'gender': ['F', 'M', 'M', 'M', 'F', 'M', 'F', 'F', 'F', 'M']\n",
    "}\n",
    "df = pd.DataFrame(data)\n",
    "print(\"Dataframe:\\n\", df)\n"
   ]
  },
  {
   "cell_type": "code",
   "execution_count": 10,
   "id": "3851424b-d3eb-4a48-8718-695e6db3854f",
   "metadata": {},
   "outputs": [
    {
     "name": "stdout",
     "output_type": "stream",
     "text": [
      "Dataframe with Occupation:\n",
      "       name  age gender  occupation\n",
      "0    Alice   28      F  Programmer\n",
      "1      Bob   34      M     Manager\n",
      "2  Charlie   22      M     Analyst\n",
      "3    David   45      M  Programmer\n",
      "4      Eva   29      F     Manager\n",
      "5    Frank   37      M     Analyst\n",
      "6    Grace   30      F  Programmer\n",
      "7   Hannah   32      F     Manager\n",
      "8      Ivy   24      F     Analyst\n",
      "9     Jack   40      M  Programmer\n"
     ]
    }
   ],
   "source": [
    "\n",
    "df['occupation'] = ['Programmer', 'Manager', 'Analyst', 'Programmer', 'Manager', 'Analyst', 'Programmer', 'Manager', 'Analyst', 'Programmer']\n",
    "print(\"Dataframe with Occupation:\\n\", df)\n"
   ]
  },
  {
   "cell_type": "code",
   "execution_count": 12,
   "id": "dcdf66a7-68ab-45d8-8054-6d8b26dda511",
   "metadata": {},
   "outputs": [
    {
     "name": "stdout",
     "output_type": "stream",
     "text": [
      "Rows where age is greater than or equal to 30:\n",
      "      name  age gender  occupation\n",
      "1     Bob   34      M     Manager\n",
      "3   David   45      M  Programmer\n",
      "5   Frank   37      M     Analyst\n",
      "6   Grace   30      F  Programmer\n",
      "7  Hannah   32      F     Manager\n",
      "9    Jack   40      M  Programmer\n"
     ]
    }
   ],
   "source": [
    "\n",
    "filtered_df = df[df['age'] >= 30]\n",
    "print(\"Rows where age is greater than or equal to 30:\\n\", filtered_df)\n"
   ]
  },
  {
   "cell_type": "code",
   "execution_count": 14,
   "id": "5359ce11-a3bc-470c-b6f5-ba9941e43cc0",
   "metadata": {},
   "outputs": [
    {
     "name": "stdout",
     "output_type": "stream",
     "text": [
      "Contents of the CSV file:\n",
      "       name  age gender  occupation\n",
      "0    Alice   28      F  Programmer\n",
      "1      Bob   34      M     Manager\n",
      "2  Charlie   22      M     Analyst\n",
      "3    David   45      M  Programmer\n",
      "4      Eva   29      F     Manager\n",
      "5    Frank   37      M     Analyst\n",
      "6    Grace   30      F  Programmer\n",
      "7   Hannah   32      F     Manager\n",
      "8      Ivy   24      F     Analyst\n",
      "9     Jack   40      M  Programmer\n"
     ]
    }
   ],
   "source": [
    "\n",
    "df.to_csv('dataframe.csv', index=False)\n",
    "\n",
    "\n",
    "read_df = pd.read_csv('dataframe.csv')\n",
    "print(\"Contents of the CSV file:\\n\", read_df)\n"
   ]
  },
  {
   "cell_type": "code",
   "execution_count": null,
   "id": "e917a5c9-f4d5-4065-89b9-778e89f2c556",
   "metadata": {},
   "outputs": [],
   "source": []
  }
 ],
 "metadata": {
  "kernelspec": {
   "display_name": "Python 3 (ipykernel)",
   "language": "python",
   "name": "python3"
  },
  "language_info": {
   "codemirror_mode": {
    "name": "ipython",
    "version": 3
   },
   "file_extension": ".py",
   "mimetype": "text/x-python",
   "name": "python",
   "nbconvert_exporter": "python",
   "pygments_lexer": "ipython3",
   "version": "3.12.7"
  }
 },
 "nbformat": 4,
 "nbformat_minor": 5
}
