{
 "cells": [
  {
   "cell_type": "code",
   "execution_count": 2,
   "id": "f9f6802b-3914-41f7-9ad1-0bb66b9f04cd",
   "metadata": {},
   "outputs": [
    {
     "name": "stdout",
     "output_type": "stream",
     "text": [
      "Length of the list: 5\n"
     ]
    }
   ],
   "source": [
    "numbers = [10, 20, 30, 40, 50]\n",
    "print(\"Length of the list:\", len(numbers))  \n"
   ]
  },
  {
   "cell_type": "code",
   "execution_count": 4,
   "id": "21b7019f-0e3c-401d-8c43-be0cc72130f2",
   "metadata": {},
   "outputs": [
    {
     "name": "stdout",
     "output_type": "stream",
     "text": [
      "Hello, Alice!\n"
     ]
    }
   ],
   "source": [
    "def greet(name):\n",
    "    \"\"\"Greets a person with their name.\"\"\"\n",
    "    print(f\"Hello, {name}!\")\n",
    "\n",
    "\n",
    "greet(\"Alice\")  \n"
   ]
  },
  {
   "cell_type": "code",
   "execution_count": 6,
   "id": "55287bae-4b05-466a-af87-b9066f775da0",
   "metadata": {},
   "outputs": [
    {
     "name": "stdout",
     "output_type": "stream",
     "text": [
      "Maximum value: 30\n"
     ]
    }
   ],
   "source": [
    "def find_maximum(numbers):\n",
    "    \"\"\"Finds the maximum value in a list without using the built-in max() function.\"\"\"\n",
    "    if not numbers:\n",
    "        return None  \n",
    "\n",
    "    max_value = numbers[0]  \n",
    "    for num in numbers:\n",
    "        if num > max_value:\n",
    "            max_value = num\n",
    "    return max_value\n",
    "\n",
    "# Example usage:\n",
    "values = [10, 15, 7, 30, 22]\n",
    "print(\"Maximum value:\", find_maximum(values))  \n"
   ]
  },
  {
   "cell_type": "code",
   "execution_count": 8,
   "id": "c802df25-25b3-43c8-964d-0a9bb00abe5f",
   "metadata": {},
   "outputs": [
    {
     "name": "stdout",
     "output_type": "stream",
     "text": [
      "Inside function, local_var: I am local\n",
      "Inside function, global_var: I am global\n",
      "Outside function, global_var: I am global\n"
     ]
    }
   ],
   "source": [
    "global_var = \"I am global\"\n",
    "\n",
    "def variable_scope_example():\n",
    "    local_var = \"I am local\"  \n",
    "    print(\"Inside function, local_var:\", local_var)\n",
    "    print(\"Inside function, global_var:\", global_var)\n",
    "\n",
    "variable_scope_example()\n",
    "print(\"Outside function, global_var:\", global_var)\n",
    "\n"
   ]
  },
  {
   "cell_type": "code",
   "execution_count": 10,
   "id": "91b7f7c2-83fe-4555-b0df-9ebb1e52d707",
   "metadata": {},
   "outputs": [
    {
     "name": "stdout",
     "output_type": "stream",
     "text": [
      "Area with both length and width: 40\n",
      "Area with only length: 50\n"
     ]
    }
   ],
   "source": [
    "def calculate_area(length, width=5):\n",
    "    \"\"\"Calculates the area of a rectangle. If the width is not provided, it defaults to 5.\"\"\"\n",
    "    return length * width\n",
    "\n",
    "\n",
    "print(\"Area with both length and width:\", calculate_area(10, 4))  \n",
    "print(\"Area with only length:\", calculate_area(10))  \n"
   ]
  },
  {
   "cell_type": "code",
   "execution_count": null,
   "id": "9639d044-ccb2-4755-bef2-cd3c9e7f312c",
   "metadata": {},
   "outputs": [],
   "source": []
  }
 ],
 "metadata": {
  "kernelspec": {
   "display_name": "Python 3 (ipykernel)",
   "language": "python",
   "name": "python3"
  },
  "language_info": {
   "codemirror_mode": {
    "name": "ipython",
    "version": 3
   },
   "file_extension": ".py",
   "mimetype": "text/x-python",
   "name": "python",
   "nbconvert_exporter": "python",
   "pygments_lexer": "ipython3",
   "version": "3.12.7"
  }
 },
 "nbformat": 4,
 "nbformat_minor": 5
}
